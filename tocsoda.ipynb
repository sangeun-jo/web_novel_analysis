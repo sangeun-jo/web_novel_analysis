{
 "cells": [
  {
   "cell_type": "code",
   "execution_count": 1,
   "metadata": {},
   "outputs": [],
   "source": [
    "from bs4 import BeautifulSoup\n",
    "from selenium import webdriver\n",
    "import time\n",
    "import os\n",
    "import re\n",
    "os.environ.setdefault(\"DJANGO_SETTINGS_MODULE\", \"web_novel_analysis.settings\")\n",
    "#os.environ[\"DJANGO_ALLOW_ASYNC_UNSAFE\"] = \"true\"\n",
    "import django\n",
    "django.setup()\n",
    "from tocsoda.models import WebBest, FreeBest\n",
    "import re\n",
    "\n",
    "now = time.localtime()\n",
    "date = str(now.tm_year)+str(now.tm_mon)+str(now.tm_mday)\n",
    "hangul = re.compile('[^ ㄱ-ㅣ가-힣]+') \n",
    "\n",
    "chrome_options = webdriver.ChromeOptions()\n",
    "chrome_options.add_argument('headless')\n",
    "driver = webdriver.Chrome('D:/chromedriver.exe', options=chrome_options)\n",
    "def crawler(kind):\n",
    "    driver.get('http://www.tocsoda.co.kr/totalBestView/' + kind) #00023\n",
    "    if kind == '00023': #웹소설 \n",
    "        driver.find_element_by_xpath('//*[@id=\"TOTAL_ORDERBY\"]/li[3]/span/label').click()\n",
    "    elif kind == '00024': #자유연재 \n",
    "        driver.find_element_by_xpath('//*[@id=\"TOTAL_ORDERBY\"]/li[1]/span/label').click()\n",
    "    \n",
    "    time.sleep(10)\n",
    "    html = driver.page_source\n",
    "    soup = BeautifulSoup(html, 'html.parser')\n",
    "    data = soup.select_one('#TOTAL_PRODUCT_LIST')\n",
    "    \n",
    "    titles = data.find_all('span', class_='txt')\n",
    "    genres = data.find_all('span', class_='total')\n",
    "    introes = data.find_all('p', class_='desc')\n",
    "\n",
    "    for title, genre,intro  in zip(titles, genres, introes):\n",
    "        title = title.text.strip()\n",
    "        genre = re.search(r'\\[(.*?)\\]', genre.text).group() \n",
    "        intro = intro.text\n",
    "        if kind == '00023':\n",
    "            WebBest(date=date, genre=genre, title=title, intro=intro).save()\n",
    "        elif kind == '00024':\n",
    "            FreeBest(date=date, genre=genre, title=title, intro=intro).save()\n",
    "crawler('00023') #웹소설\n",
    "crawler('00024') #자유연재\n",
    "driver.close()"
   ]
  }
 ],
 "metadata": {
  "kernelspec": {
   "display_name": "Python 3.6.10 64-bit ('lab': conda)",
   "language": "python",
   "name": "python361064bitlabconda0dd98a72d114469b90d73f45595c8c04"
  },
  "language_info": {
   "codemirror_mode": {
    "name": "ipython",
    "version": 3
   },
   "file_extension": ".py",
   "mimetype": "text/x-python",
   "name": "python",
   "nbconvert_exporter": "python",
   "pygments_lexer": "ipython3",
   "version": "3.6.10"
  }
 },
 "nbformat": 4,
 "nbformat_minor": 4
}
