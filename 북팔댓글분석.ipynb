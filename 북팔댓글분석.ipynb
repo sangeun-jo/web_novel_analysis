{
 "cells": [
  {
   "cell_type": "code",
   "execution_count": 1,
   "metadata": {},
   "outputs": [],
   "source": [
    "import os\n",
    "os.environ.setdefault(\"DJANGO_SETTINGS_MODULE\", \"web_novel_analysis.settings\")\n",
    "import django\n",
    "django.setup()\n",
    "\n",
    "from wordcloud import WordCloud\n",
    "import matplotlib.pyplot as plt\n",
    "from web_novel_analysis.base import get_tags\n",
    "from web_novel_analysis.base import wordcloud"
   ]
  },
  {
   "cell_type": "code",
   "execution_count": 2,
   "metadata": {},
   "outputs": [],
   "source": [
    "from bs4 import BeautifulSoup\n",
    "from selenium import webdriver\n",
    "import re\n",
    "import time"
   ]
  },
  {
   "cell_type": "code",
   "execution_count": 70,
   "metadata": {},
   "outputs": [],
   "source": [
    "def bookpal_comment(url):\n",
    "    chrome_options = webdriver.ChromeOptions()\n",
    "    chrome_options.add_argument('headless')\n",
    "    driver = webdriver.Chrome('D:/chromedriver.exe', options=chrome_options)\n",
    "\n",
    "    html = driver.page_source\n",
    "    soup = BeautifulSoup(html, 'html.parser')\n",
    "    commentList = []\n",
    "    cnt = 1\n",
    "    \n",
    "    #북팔은 댓글 첫 페이지 입력하라고 하기 \n",
    "    while True:  \n",
    "        driver.get(url +'?page=' + str(cnt))\n",
    "        cnt = cnt + 1\n",
    "        time.sleep(0.3)\n",
    "        driver.execute_script(\"window.scrollTo(0, document.body.scrollHeight);\")\n",
    "        html = driver.page_source\n",
    "        soup = BeautifulSoup(html, 'html.parser')\n",
    "        comments = soup.find_all('div', class_='con-comm')\n",
    "        if comments:\n",
    "            for comment in comments:\n",
    "                commentList.append(comment.text.strip())\n",
    "        else:\n",
    "            break; \n",
    "    driver.close()\n",
    "    return commentList"
   ]
  },
  {
   "cell_type": "code",
   "execution_count": null,
   "metadata": {},
   "outputs": [],
   "source": [
    "driver.close()"
   ]
  },
  {
   "cell_type": "code",
   "execution_count": 53,
   "metadata": {},
   "outputs": [
    {
     "name": "stdout",
     "output_type": "stream",
     "text": [
      "['49화\\nㅋㅋㅋ 재오어린이네~~\\n잘 읽었습니다', '48화\\n이런 라이벌 등장이네...\\n재오 우짜노...ㅋㅋ', '49화\\n잘보고갑니다‥', '49화\\n                        드디어 풀렸네 드디어ㅎㅎㅎ', '49화\\n                        드디어 오해가 풀렸네요..참 힘든시간이였어요 보는 사람도요^^', '48화\\n                        아무래도 재오는 바보임에 틀림없어', '48화\\n재오가..너무..다른방법을 선택하지.ㅠㅠ 너무 하긴 한것같아요.', '48화\\n                        갈아타여', '48화\\n                        이거이거...이 상태로 오래갈 각이구만..', '48화\\n고생한 보람이 없네.재오만 고생']\n"
     ]
    }
   ],
   "source": [
    "print(commentList)\n",
    "nexturl = soup.find('li', class_='next').a['href']\n",
    "#commentList = []"
   ]
  },
  {
   "cell_type": "code",
   "execution_count": 25,
   "metadata": {},
   "outputs": [
    {
     "name": "stdout",
     "output_type": "stream",
     "text": [
      "http://novel.bookpal.co.kr/view%5Ereview/54765?page=6\n"
     ]
    }
   ],
   "source": [
    "print(nexturl)"
   ]
  },
  {
   "cell_type": "code",
   "execution_count": 72,
   "metadata": {},
   "outputs": [],
   "source": [
    "from konlpy.tag import Kkma"
   ]
  },
  {
   "cell_type": "code",
   "execution_count": 73,
   "metadata": {},
   "outputs": [],
   "source": [
    "kkma = Kkma()"
   ]
  },
  {
   "cell_type": "code",
   "execution_count": 75,
   "metadata": {},
   "outputs": [
    {
     "data": {
      "text/plain": [
       "['드디어 오해가 풀렸네요..', '참 힘든 시간이였어요', '보는 사람도요 ^^']"
      ]
     },
     "execution_count": 75,
     "metadata": {},
     "output_type": "execute_result"
    }
   ],
   "source": [
    "kkma.sentences('드디어 오해가 풀렸네요..참 힘든시간이였어요 보는 사람도요^^')"
   ]
  },
  {
   "cell_type": "code",
   "execution_count": 76,
   "metadata": {},
   "outputs": [
    {
     "data": {
      "text/plain": [
       "[('드디어', 'MAG'),\n",
       " ('오해', 'NNG'),\n",
       " ('가', 'JKS'),\n",
       " ('풀리', 'VV'),\n",
       " ('었', 'EPT'),\n",
       " ('네요', 'EFN'),\n",
       " ('..', 'SW'),\n",
       " ('참', 'NNG'),\n",
       " ('힘들', 'VA'),\n",
       " ('ㄴ', 'ETD'),\n",
       " ('시간', 'NNG'),\n",
       " ('이', 'VCP'),\n",
       " ('였', 'EPT'),\n",
       " ('어요', 'EFN'),\n",
       " ('보', 'VV'),\n",
       " ('는', 'ETD'),\n",
       " ('사람', 'NNG'),\n",
       " ('도', 'JX'),\n",
       " ('요', 'JX'),\n",
       " ('^^', 'EMO')]"
      ]
     },
     "execution_count": 76,
     "metadata": {},
     "output_type": "execute_result"
    }
   ],
   "source": [
    "kkma.pos('드디어 오해가 풀렸네요..참 힘든시간이였어요 보는 사람도요^^')"
   ]
  },
  {
   "cell_type": "code",
   "execution_count": null,
   "metadata": {},
   "outputs": [],
   "source": []
  }
 ],
 "metadata": {
  "kernelspec": {
   "display_name": "Python 3.6.10 64-bit ('lab': conda)",
   "language": "python",
   "name": "python361064bitlabconda0dd98a72d114469b90d73f45595c8c04"
  },
  "language_info": {
   "codemirror_mode": {
    "name": "ipython",
    "version": 3
   },
   "file_extension": ".py",
   "mimetype": "text/x-python",
   "name": "python",
   "nbconvert_exporter": "python",
   "pygments_lexer": "ipython3",
   "version": "3.6.10"
  }
 },
 "nbformat": 4,
 "nbformat_minor": 4
}
