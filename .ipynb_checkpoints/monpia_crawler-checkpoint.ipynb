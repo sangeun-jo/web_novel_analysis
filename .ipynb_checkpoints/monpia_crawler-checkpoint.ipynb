{
 "cells": [
  {
   "cell_type": "code",
   "execution_count": 1,
   "metadata": {},
   "outputs": [],
   "source": [
    "from bs4 import BeautifulSoup\n",
    "from selenium import webdriver\n",
    "import time\n",
    "import os\n",
    "import re\n",
    "os.environ.setdefault(\"DJANGO_SETTINGS_MODULE\", \"web_novel_analysis.settings\")\n",
    "import django\n",
    "django.setup()\n",
    "from munpia.models import TodayBest"
   ]
  },
  {
   "cell_type": "code",
   "execution_count": 52,
   "metadata": {},
   "outputs": [],
   "source": [
    "now = time.localtime()\n",
    "\n",
    "hangul = re.compile('[^ ㄱ-ㅣ가-힣]+') \n",
    "\n",
    "chrome_options = webdriver.ChromeOptions()\n",
    "chrome_options.add_argument('headless')\n",
    "driver = webdriver.Chrome('D:/chromedriver.exe', options=chrome_options)\n",
    "\n",
    "def parser(url):\n",
    "    driver.get(url)\n",
    "    html = driver.page_source\n",
    "    return BeautifulSoup(html, 'html.parser')\n",
    "    \n",
    "#무료\n",
    "free = parser('https://www.munpia.com/page/best')\n",
    "\n",
    "#ebook\n",
    "ebook = parser('https://www.munpia.com/page/best/section/plea.today')\n",
    "\n",
    "#유료\n",
    "pad = parser('https://www.munpia.com/page/best/section/plsa.eachtoday')\n",
    "\n",
    "#유로 선독점 \n",
    "f_pad = parser('https://www.munpia.com/page/best/section/plsa.exclusive-eachtoday')\n",
    "\n",
    "driver.close()"
   ]
  },
  {
   "cell_type": "code",
   "execution_count": 42,
   "metadata": {},
   "outputs": [],
   "source": [
    "\n",
    "\n",
    "book_list = soup.find_all('p', class_='cover-collapse')\n",
    "date = str(now.tm_year)+str(now.tm_mon)+str(now.tm_mday)"
   ]
  },
  {
   "cell_type": "code",
   "execution_count": 43,
   "metadata": {},
   "outputs": [],
   "source": [
    "author_list = soup.find_all('span', class_='author col-xs-3 col-xs-pull-7')\n",
    "genre_list = soup.find_all('span', class_='genre col-xs-2 col-xs-push-8')"
   ]
  },
  {
   "cell_type": "code",
   "execution_count": 51,
   "metadata": {},
   "outputs": [
    {
     "name": "stdout",
     "output_type": "stream",
     "text": [
      "이혼 후 먼치킨\n",
      "온필수\n",
      "스포츠/현대판타지\n"
     ]
    }
   ],
   "source": []
  },
  {
   "cell_type": "code",
   "execution_count": null,
   "metadata": {},
   "outputs": [],
   "source": [
    "#print(book_list[0].img['title']) \n",
    "#print(author_list[0].text.strip())\n",
    "#print(genre_list[0].text.replace(', ', '/').strip())"
   ]
  }
 ],
 "metadata": {
  "kernelspec": {
   "display_name": "Python 3.6.10 64-bit ('lab': conda)",
   "language": "python",
   "name": "python361064bitlabconda0dd98a72d114469b90d73f45595c8c04"
  },
  "language_info": {
   "codemirror_mode": {
    "name": "ipython",
    "version": 3
   },
   "file_extension": ".py",
   "mimetype": "text/x-python",
   "name": "python",
   "nbconvert_exporter": "python",
   "pygments_lexer": "ipython3",
   "version": "3.6.10"
  }
 },
 "nbformat": 4,
 "nbformat_minor": 4
}
